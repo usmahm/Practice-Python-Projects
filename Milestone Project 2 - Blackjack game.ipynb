{
 "cells": [
  {
   "cell_type": "markdown",
   "metadata": {},
   "source": [
    "___\n",
    "\n",
    "<a href='https://www.udemy.com/user/joseportilla/'><img src='../Pierian_Data_Logo.png'/></a>\n",
    "___\n",
    "<center><em>Content Copyright by Pierian Data</em></center>"
   ]
  },
  {
   "cell_type": "markdown",
   "metadata": {
    "collapsed": true
   },
   "source": [
    "# Milestone Project 2 - Walkthrough Steps Workbook\n",
    "Below is a set of steps for you to follow to try to create the Blackjack Milestone Project game!"
   ]
  },
  {
   "cell_type": "markdown",
   "metadata": {},
   "source": [
    "## Game Play\n",
    "To play a hand of Blackjack the following steps must be followed:\n",
    "1. Create a deck of 52 cards\n",
    "2. Shuffle the deck\n",
    "3. Ask the Player for their bet\n",
    "4. Make sure that the Player's bet does not exceed their available chips\n",
    "5. Deal two cards to the Dealer and two cards to the Player\n",
    "6. Show only one of the Dealer's cards, the other remains hidden\n",
    "7. Show both of the Player's cards\n",
    "8. Ask the Player if they wish to Hit, and take another card\n",
    "9. If the Player's hand doesn't Bust (go over 21), ask if they'd like to Hit again.\n",
    "10. If a Player Stands, play the Dealer's hand. The dealer will always Hit until the Dealer's value meets or exceeds 17\n",
    "11. Determine the winner and adjust the Player's chips accordingly\n",
    "12. Ask the Player if they'd like to play again"
   ]
  },
  {
   "cell_type": "markdown",
   "metadata": {},
   "source": [
    "## Playing Cards\n",
    "A standard deck of playing cards has four suits (Hearts, Diamonds, Spades and Clubs) and thirteen ranks (2 through 10, then the face cards Jack, Queen, King and Ace) for a total of 52 cards per deck. Jacks, Queens and Kings all have a rank of 10. Aces have a rank of either 11 or 1 as needed to reach 21 without busting. As a starting point in your program, you may want to assign variables to store a list of suits, ranks, and then use a dictionary to map ranks to values."
   ]
  },
  {
   "cell_type": "markdown",
   "metadata": {},
   "source": [
    "## The Game\n",
    "### Imports and Global Variables\n",
    "** Step 1: Import the random module. This will be used to shuffle the deck prior to dealing. Then, declare variables to store suits, ranks and values. You can develop your own system, or copy ours below. Finally, declare a Boolean value to be used to control <code>while</code> loops. This is a common practice used to control the flow of the game.**\n",
    "\n",
    "    suits = ('Hearts', 'Diamonds', 'Spades', 'Clubs')\n",
    "    ranks = ('Two', 'Three', 'Four', 'Five', 'Six', 'Seven', 'Eight', 'Nine', 'Ten', 'Jack', 'Queen', 'King', 'Ace')\n",
    "    values = {'Two':2, 'Three':3, 'Four':4, 'Five':5, 'Six':6, 'Seven':7, 'Eight':8, 'Nine':9, 'Ten':10, 'Jack':10,\n",
    "             'Queen':10, 'King':10, 'Ace':11}"
   ]
  },
  {
   "cell_type": "code",
   "execution_count": 235,
   "metadata": {},
   "outputs": [],
   "source": [
    "import random\n",
    "\n",
    "suits = ('Hearts', 'Diamonds', 'Spades', 'Clubs')\n",
    "ranks = ('Two', 'Three', 'Four', 'Five', 'Six', 'Seven', 'Eight', 'Nine', 'Ten', 'Jack', 'Queen', 'King', 'Ace')\n",
    "values = {'Two':2, 'Three':3, 'Four':4, 'Five':5, 'Six':6, 'Seven':7, 'Eight':8, 'Nine':9, 'Ten':10, 'Jack':10,\n",
    "         'Queen':10, 'King':10, 'Ace':11}\n",
    "\n",
    "playing = True"
   ]
  },
  {
   "cell_type": "markdown",
   "metadata": {},
   "source": [
    "### Class Definitions\n",
    "Consider making a Card class where each Card object has a suit and a rank, then a Deck class to hold all 52 Card objects, and can be shuffled, and finally a Hand class that holds those Cards that have been dealt to each player from the Deck."
   ]
  },
  {
   "cell_type": "markdown",
   "metadata": {},
   "source": [
    "**Step 2: Create a Card Class**<br>\n",
    "A Card object really only needs two attributes: suit and rank. You might add an attribute for \"value\" - we chose to handle value later when developing our Hand class.<br>In addition to the Card's \\_\\_init\\_\\_ method, consider adding a \\_\\_str\\_\\_ method that, when asked to print a Card, returns a string in the form \"Two of Hearts\""
   ]
  },
  {
   "cell_type": "code",
   "execution_count": 236,
   "metadata": {},
   "outputs": [],
   "source": [
    "class Card:\n",
    "    \n",
    "    def __init__(self, suit, rank):\n",
    "        self.suit = suit\n",
    "        self.rank = rank\n",
    "    \n",
    "    def __str__(self):\n",
    "        return f\"{self.rank} of {self.suit}\""
   ]
  },
  {
   "cell_type": "markdown",
   "metadata": {},
   "source": [
    "**Step 3: Create a Deck Class**<br>\n",
    "Here we might store 52 card objects in a list that can later be shuffled. First, though, we need to *instantiate* all 52 unique card objects and add them to our list. So long as the Card class definition appears in our code, we can build Card objects inside our Deck \\_\\_init\\_\\_ method. Consider iterating over sequences of suits and ranks to build out each card. This might appear inside a Deck class \\_\\_init\\_\\_ method:\n",
    "\n",
    "    for suit in suits:\n",
    "        for rank in ranks:\n",
    "\n",
    "In addition to an \\_\\_init\\_\\_ method we'll want to add methods to shuffle our deck, and to deal out cards during gameplay.<br><br>\n",
    "OPTIONAL: We may never need to print the contents of the deck during gameplay, but having the ability to see the cards inside it may help troubleshoot any problems that occur during development. With this in mind, consider adding a \\_\\_str\\_\\_ method to the class definition."
   ]
  },
  {
   "cell_type": "code",
   "execution_count": 237,
   "metadata": {},
   "outputs": [],
   "source": [
    "class Deck:\n",
    "    \n",
    "    def __init__(self):\n",
    "        self.deck = []  # start with an empty list\n",
    "        for suit in suits:\n",
    "            for rank in ranks:\n",
    "                card_obj = Card(suit, rank)\n",
    "                self.deck.append(card_obj)\n",
    "    \n",
    "    def __str__(self):\n",
    "        return f\"Deck currently has {len(self.deck)} cards left\"\n",
    "\n",
    "    def shuffle(self):\n",
    "        random.shuffle(self.deck)\n",
    "        \n",
    "    def deal(self):\n",
    "        return self.deck.pop()"
   ]
  },
  {
   "cell_type": "markdown",
   "metadata": {},
   "source": [
    "TESTING: Just to see that everything works so far, let's see what our Deck looks like!"
   ]
  },
  {
   "cell_type": "code",
   "execution_count": 238,
   "metadata": {},
   "outputs": [
    {
     "name": "stdout",
     "output_type": "stream",
     "text": [
      "Deck currently has 52 cards left\n"
     ]
    }
   ],
   "source": [
    "test_deck = Deck()\n",
    "print(test_deck)"
   ]
  },
  {
   "cell_type": "markdown",
   "metadata": {},
   "source": [
    "Great! Now let's move on to our Hand class."
   ]
  },
  {
   "cell_type": "markdown",
   "metadata": {},
   "source": [
    "**Step 4: Create a Hand Class**<br>\n",
    "In addition to holding Card objects dealt from the Deck, the Hand class may be used to calculate the value of those cards using the values dictionary defined above. It may also need to adjust for the value of Aces when appropriate."
   ]
  },
  {
   "cell_type": "code",
   "execution_count": 239,
   "metadata": {},
   "outputs": [],
   "source": [
    "class Hand:\n",
    "    def __init__(self):\n",
    "        self.cards = []  # start with an empty list as we did in the Deck class\n",
    "        self.value = 0   # start with zero value\n",
    "        self.aces = 0    # add an attribute to keep track of aces\n",
    "    \n",
    "    def add_card(self,card):\n",
    "        self.cards.append(card)\n",
    "        \n",
    "        if (card.rank == 'Ace' and (self.value + values['Ace'] > 21)):\n",
    "            self.value += 1\n",
    "        else:\n",
    "            self.value += values[card.rank]\n",
    "    \n",
    "    def adjust_for_ace(self):\n",
    "        pass"
   ]
  },
  {
   "cell_type": "markdown",
   "metadata": {},
   "source": [
    "**Step 5: Create a Chips Class**<br>\n",
    "In addition to decks of cards and hands, we need to keep track of a Player's starting chips, bets, and ongoing winnings. This could be done using global variables, but in the spirit of object oriented programming, let's make a Chips class instead!"
   ]
  },
  {
   "cell_type": "code",
   "execution_count": 240,
   "metadata": {},
   "outputs": [],
   "source": [
    "class Chips:\n",
    "    \n",
    "    def __init__(self):\n",
    "        self.total = 100  # This can be set to a default value or supplied by a user input\n",
    "        self.bet = 0\n",
    "        \n",
    "    def win_bet(self):\n",
    "        self.total += self.bet\n",
    "#         pass\n",
    "    \n",
    "    def lose_bet(self):\n",
    "        self.total -= self.bet\n",
    "#         pass"
   ]
  },
  {
   "cell_type": "markdown",
   "metadata": {},
   "source": [
    "### Function Defintions\n",
    "A lot of steps are going to be repetitive. That's where functions come in! The following steps are guidelines - add or remove functions as needed in your own program."
   ]
  },
  {
   "cell_type": "markdown",
   "metadata": {},
   "source": [
    "**Step 6: Write a function for taking bets**<br>\n",
    "Since we're asking the user for an integer value, this would be a good place to use <code>try</code>/<code>except</code>. Remember to check that a Player's bet can be covered by their available chips."
   ]
  },
  {
   "cell_type": "code",
   "execution_count": 241,
   "metadata": {},
   "outputs": [],
   "source": [
    "def take_bet(chips):\n",
    "    is_available = False\n",
    "    \n",
    "    while not(is_available):\n",
    "        try:\n",
    "            chips.bet = int(input(\"Please place your bet: \"))\n",
    "        except ValueError:\n",
    "            print(\"Please supply a valid value\")\n",
    "            continue\n",
    "        \n",
    "        if chips.bet > chips.total:\n",
    "            print(f\"Can't place bet you only have {chips.total} chips left.\")\n",
    "        else:\n",
    "            is_available = True\n",
    "            \n",
    "    \n",
    "    return chips.bet\n",
    "\n",
    "#     pass"
   ]
  },
  {
   "cell_type": "markdown",
   "metadata": {},
   "source": [
    "**Step 7: Write a function for taking hits**<br>\n",
    "Either player can take hits until they bust. This function will be called during gameplay anytime a Player requests a hit, or a Dealer's hand is less than 17. It should take in Deck and Hand objects as arguments, and deal one card off the deck and add it to the Hand. You may want it to check for aces in the event that a player's hand exceeds 21."
   ]
  },
  {
   "cell_type": "code",
   "execution_count": 242,
   "metadata": {},
   "outputs": [],
   "source": [
    "def hit(deck,hand):\n",
    "    hand.add_card(deck.deal())\n",
    "#     pass"
   ]
  },
  {
   "cell_type": "markdown",
   "metadata": {},
   "source": [
    "**Step 8: Write a function prompting the Player to Hit or Stand**<br>\n",
    "This function should accept the deck and the player's hand as arguments, and assign playing as a global variable.<br>\n",
    "If the Player Hits, employ the hit() function above. If the Player Stands, set the playing variable to False - this will control the behavior of a <code>while</code> loop later on in our code."
   ]
  },
  {
   "cell_type": "code",
   "execution_count": 243,
   "metadata": {},
   "outputs": [],
   "source": [
    "def hit_or_stand(deck,hand):\n",
    "    global playing  # to control an upcoming while loop\n",
    "    \n",
    "    player_choice = None\n",
    "    while True:\n",
    "        player_choice = input(\"Do you wish to hit or stand, please input 'Hit' or 'Stand':\")[0].capitalize()\n",
    "        \n",
    "        if player_choice in ['H', 'S']:\n",
    "            break\n",
    "        else:\n",
    "            print(\"Please provide a valid choice!\")\n",
    "\n",
    "    if player_choice == 'H':\n",
    "        hit(deck,hand)\n",
    "    else:\n",
    "        playing = False\n",
    "#     pass"
   ]
  },
  {
   "cell_type": "markdown",
   "metadata": {},
   "source": [
    "**Step 9: Write functions to display cards**<br>\n",
    "When the game starts, and after each time Player takes a card, the dealer's first card is hidden and all of Player's cards are visible. At the end of the hand all cards are shown, and you may want to show each hand's total value. Write a function for each of these scenarios."
   ]
  },
  {
   "cell_type": "code",
   "execution_count": 244,
   "metadata": {},
   "outputs": [],
   "source": [
    "def show_some(player,dealer):\n",
    "\n",
    "    print(\"Dealer's Cards\")\n",
    "    for card in dealer.cards[1:]:\n",
    "        print(card)\n",
    "   \n",
    "    print(\"\\n\\n\")\n",
    "    print(\"Player's Card\")\n",
    "    for card in player.cards:\n",
    "        print(card)\n",
    "#     pass\n",
    "    \n",
    "def show_all(player,dealer):\n",
    "    print(\"Dealer's Cards\")\n",
    "    for card in dealer.cards:\n",
    "        print(card)\n",
    "\n",
    "    print(\"\\n\\n\")\n",
    "    print(\"Player's Card\")\n",
    "    for card in player.cards:\n",
    "        print(card)\n",
    "#     pass"
   ]
  },
  {
   "cell_type": "markdown",
   "metadata": {},
   "source": [
    "**Step 10: Write functions to handle end of game scenarios**<br>\n",
    "Remember to pass player's hand, dealer's hand and chips as needed."
   ]
  },
  {
   "cell_type": "code",
   "execution_count": 245,
   "metadata": {},
   "outputs": [],
   "source": [
    "def player_busts(player, dealer, chips):\n",
    "    print(\"BUST PLAYER!\")\n",
    "    chips.lose_bet()\n",
    "#     pass\n",
    "\n",
    "def player_wins(player, dealer, chips):\n",
    "    print('PLAYER WINS')\n",
    "    chips.win_bet()\n",
    "\n",
    "def dealer_busts(player, dealer, chips):\n",
    "    print('PLAYER WINS! DEALER BUSTED!')\n",
    "    chips.win_bet()\n",
    "    \n",
    "def dealer_wins(player, dealer, chips):\n",
    "    print(\"DEALER WINS!\")\n",
    "    chips.lose_bet()\n",
    "    \n",
    "def push(player, dealer):\n",
    "    print('Dealer and player tie! PUSH')\n",
    "    # pass"
   ]
  },
  {
   "cell_type": "markdown",
   "metadata": {},
   "source": [
    "### And now on to the game!!"
   ]
  },
  {
   "cell_type": "code",
   "execution_count": 246,
   "metadata": {
    "collapsed": true
   },
   "outputs": [
    {
     "name": "stdout",
     "output_type": "stream",
     "text": [
      "Welcome to BlackJack text based game :)\n",
      "Dealer's Cards\n",
      "Two of Clubs\n",
      "\n",
      "\n",
      "\n",
      "Player's Card\n",
      "Three of Clubs\n",
      "Six of Spades\n",
      "Dealer's Cards\n",
      "Two of Clubs\n",
      "\n",
      "\n",
      "\n",
      "Player's Card\n",
      "Three of Clubs\n",
      "Six of Spades\n",
      "Ace of Diamonds\n",
      "Dealer's Cards\n",
      "Two of Clubs\n",
      "\n",
      "\n",
      "\n",
      "Player's Card\n",
      "Three of Clubs\n",
      "Six of Spades\n",
      "Ace of Diamonds\n",
      "Nine of Diamonds\n",
      "BUST PLAYER!\n",
      "\n",
      " Player total chips are at 67\n",
      "Thank you for playing!\n"
     ]
    }
   ],
   "source": [
    "while True:\n",
    "    # Print an opening statement\n",
    "    print(\"Welcome to BlackJack text based game :)\")\n",
    "    \n",
    "    # Create & shuffle the deck, deal two cards to each player\n",
    "    new_deck = Deck()\n",
    "    new_deck.shuffle()\n",
    "    \n",
    "    player = Hand()\n",
    "    dealer = Hand()\n",
    "    \n",
    "    for _ in range(2):\n",
    "        player.add_card(new_deck.deal())\n",
    "        dealer.add_card(new_deck.deal())\n",
    "        \n",
    "    \n",
    "        \n",
    "    # Set up the Player's chips\n",
    "    player_chips = Chips()\n",
    "    \n",
    "    \n",
    "    # Prompt the Player for their bet\n",
    "    player_bet = take_bet(player_chips)\n",
    "\n",
    "    \n",
    "    # Show cards (but keep one dealer card hidden)\n",
    "    show_some(player, dealer)\n",
    "\n",
    "    \n",
    "    while playing:  # recall this variable from our hit_or_stand function\n",
    "        \n",
    "        # Prompt for Player to Hit or Stand\n",
    "        hit_or_stand(new_deck, player)\n",
    "        \n",
    "        # Show cards (but keep one dealer card hidden)\n",
    "        show_some(player, dealer)\n",
    "        \n",
    "        # If player's hand exceeds 21, run player_busts() and break out of loop\n",
    "        if player.value > 21:\n",
    "            player_busts(player, dealer, player_chips)\n",
    "            break\n",
    "\n",
    "    # If Player hasn't busted, play Dealer's hand until Dealer reaches 17\n",
    "    if player.value <= 21:\n",
    "        while dealer.value < 17:\n",
    "            hit(new_deck, dealer)\n",
    "\n",
    "        \n",
    "\n",
    "        # Show all cards\n",
    "        show_all(player, dealer)\n",
    "\n",
    "        # Run different winning scenarios\n",
    "        if dealer.value > 21:\n",
    "            dealer_busts(player, dealer, player_chips)\n",
    "            break\n",
    "        elif dealer.value > player.value:\n",
    "            dealer_wins(player, dealer_wins, player_chips)\n",
    "        elif dealer.value < player.value:\n",
    "            player_wins(player, dealer, player_chips)\n",
    "        else:\n",
    "            push(player, dealer)\n",
    "    \n",
    "    # Inform Player of their chips total \n",
    "    print(f'\\n Player total chips are at {player_chips.total}')\n",
    "    \n",
    "    # Ask to play again\n",
    "    is_play_again = None\n",
    "    while is_play_again not in ['Yes', 'No']:\n",
    "        is_play_again = input(\"Do you want to play again (Yes or No)?\").capitalize()\n",
    "\n",
    "    if is_play_again == 'No':\n",
    "        print(\"Thank you for playing!\")\n",
    "        break"
   ]
  },
  {
   "cell_type": "markdown",
   "metadata": {},
   "source": [
    "And that's it! Remember, these steps may differ significantly from your own solution. That's OK! Keep working on different sections of your program until you get the desired results. It takes a lot of time and patience! As always, feel free to post questions and comments to the QA Forums.\n",
    "# Good job!"
   ]
  }
 ],
 "metadata": {
  "interpreter": {
   "hash": "26631a6a608865cb56595918b5dd97742496c24b902bb4af78ca28fba992b005"
  },
  "kernelspec": {
   "display_name": "Python 3.8.8 64-bit ('base': conda)",
   "name": "python3"
  },
  "language_info": {
   "codemirror_mode": {
    "name": "ipython",
    "version": 3
   },
   "file_extension": ".py",
   "mimetype": "text/x-python",
   "name": "python",
   "nbconvert_exporter": "python",
   "pygments_lexer": "ipython3",
   "version": "3.8.8"
  }
 },
 "nbformat": 4,
 "nbformat_minor": 1
}
